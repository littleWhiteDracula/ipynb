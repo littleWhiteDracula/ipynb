{
 "cells": [
  {
   "cell_type": "markdown",
   "metadata": {},
   "source": [
    "#  1. 股票数据获取"
   ]
  },
  {
   "cell_type": "markdown",
   "metadata": {},
   "source": [
    "### 1. 数据分析相关模块"
   ]
  },
  {
   "cell_type": "code",
   "execution_count": 135,
   "metadata": {},
   "outputs": [],
   "source": [
    "import tushare as ts\n",
    "import pandas as pd\n",
    "import matplotlib.pyplot as plt"
   ]
  },
  {
   "cell_type": "markdown",
   "metadata": {},
   "source": [
    "### 2. Tushare数据集介绍"
   ]
  },
  {
   "cell_type": "markdown",
   "metadata": {},
   "source": [
    "1. tushare数据接口目前分成两块：    \n",
    "&emsp;&emsp;|-普通版本:http://tushare.waditu.com/index.html       \n",
    "&emsp;&emsp;|-专业版本:https://tushare.pro/document/2     "
   ]
  },
  {
   "cell_type": "markdown",
   "metadata": {},
   "source": [
    "2. Tushare数据访问token      \n",
    "&emsp;&emsp;专业数据访问需要token，这个防止其他分布式爬虫访问；      \n",
    "&emsp;&emsp;获取专业版本的token是免费的，但有的需要积分，积分可以通过参与社区活动获取；     \n",
    "&emsp;&emsp;token获取办法：只需要注册一个账号，在个人空间就可以自动生成token，然后在客户端就可以使用；"
   ]
  },
  {
   "cell_type": "markdown",
   "metadata": {},
   "source": [
    "3. 访问Tushare数据集接口       \n",
    "&emsp;&emsp;Tushare的数据接口在官网上就有直接介绍，也有很对例子。"
   ]
  },
  {
   "cell_type": "markdown",
   "metadata": {},
   "source": [
    "### 3. Tushare数据访问"
   ]
  },
  {
   "cell_type": "markdown",
   "metadata": {},
   "source": [
    "1.  交易数据介绍      \n",
    "\n",
    "&emsp;&emsp;获取交易数据的地址：http://tushare.waditu.com/index.html   ，选择其中的【交易数据】-> 【历史行情】可以得到访问数据的方式。   \n",
    ">交易类数据提供股票的交易行情数据，通过简单的接口调用可获取相应的DataFrame格式数据，主要包括以下类别：   \n",
    ">1. 历史行情数据    \n",
    ">2. 复权历史数据     \n",
    ">3. 实时行情数据     \n",
    ">4. 历史分笔数据     \n",
    ">5. 实时报价数据     \n",
    ">6. 当日历史分笔     \n",
    ">7. 大盘指数列表      \n",
    ">8. 大单交易数据      \n",
    "\n",
    "&emsp;&emsp;获取个股历史交易数据（包括均线数据），可以通过参数设置获取日k线、周k线、月k线，以及5分钟、15分钟、30分钟和60分钟k线数据。本接口只能获取近3年的日线数据，适合搭配均线数据进行选股和分析，如果需要全部历史数据，请调用下一个接口get_h_data()。\n",
    "&emsp;&emsp;     \n",
    "参数说明：    \n",
    "\n",
    "参数|参数说明\n",
    "-|-\n",
    "code|股票代码，即6位数字代码，或者指数代码（sh=上证指数 sz=深圳成指 hs300=沪深300指数 sz50=上证50 zxb=中小板 cyb=创业板）       \n",
    "start|开始日期，格式YYYY-MM-DD       \n",
    "end|结束日期，格式YYYY-MM-DD       \n",
    "ktype|数据类型，D=日k线 W=周 M=月 5=5分钟 15=15分钟 30=30分钟 60=60分钟，默认为D       \n",
    "retry_count|当网络异常后重试次数，默认为3       \n",
    "pause|重试时停顿秒数，默认为0       \n",
    "&emsp;&emsp;              \n",
    "返回值说明：  \n",
    "\n",
    "字段|字段说明\n",
    "-|-\n",
    "date|日期       \n",
    "open|开盘价       \n",
    "high|最高价       \n",
    "close|收盘价       \n",
    "low|最低价       \n",
    "volume|成交量       \n",
    "price_change|价格变动       \n",
    "p_change|涨跌幅       \n",
    "ma5|5日均价       \n",
    "ma10|10日均价       \n",
    "ma20|20日均价       \n",
    "v_ma5|5日均量       \n",
    "v_ma10|10日均量       \n",
    "v_ma20|20日均量       \n",
    "turnover|换手率\\[注：指数无此项\\]       \n"
   ]
  },
  {
   "cell_type": "markdown",
   "metadata": {},
   "source": [
    "2. 获取交易数据"
   ]
  },
  {
   "cell_type": "code",
   "execution_count": 136,
   "metadata": {},
   "outputs": [],
   "source": [
    "import tushare as ts\n",
    "demo=ts.get_hist_data('600848') "
   ]
  },
  {
   "cell_type": "markdown",
   "metadata": {},
   "source": [
    "3. 获取企业基本信息 "
   ]
  },
  {
   "cell_type": "code",
   "execution_count": 137,
   "metadata": {},
   "outputs": [
    {
     "name": "stdout",
     "output_type": "stream",
     "text": [
      "(3573, 22)\n",
      "Index(['name', 'industry', 'area', 'pe', 'outstanding', 'totals',\n",
      "       'totalAssets', 'liquidAssets', 'fixedAssets', 'reserved',\n",
      "       'reservedPerShare', 'esp', 'bvps', 'pb', 'timeToMarket', 'undp',\n",
      "       'perundp', 'rev', 'profit', 'gpr', 'npr', 'holders'],\n",
      "      dtype='object')\n",
      "Index(['300165', '000068', '000981', '002721', '600086', '600290', '300153',\n",
      "       '002560', '300360', '002927',\n",
      "       ...\n",
      "       '000693', '603629', '603185', '603121', '601860', '600680', '600401',\n",
      "       '300756', '300755', '002948'],\n",
      "      dtype='object', name='code', length=3573)\n"
     ]
    }
   ],
   "source": [
    "import tushare as ts\n",
    "industry=ts.get_stock_basics()\n",
    "#print(industry)\n",
    "#print(type(industry))\n",
    "print(industry.shape)\n",
    "#r1=industry.iloc[0:1,0:1]\n",
    "#r2=r1.iloc[0:1,0:1]\n",
    "print(industry.columns)\n",
    "#print(industry['name'])\n",
    "#print(industry.iloc[0:1])\n",
    "print(industry.index)"
   ]
  },
  {
   "cell_type": "code",
   "execution_count": 138,
   "metadata": {},
   "outputs": [
    {
     "name": "stdout",
     "output_type": "stream",
     "text": [
      "Index(['open', 'high', 'close', 'low', 'volume', 'price_change', 'p_change',\n",
      "       'ma5', 'ma10', 'ma20', 'v_ma5', 'v_ma10', 'v_ma20'],\n",
      "      dtype='object')\n",
      "Index(['2018-12-18', '2018-12-17', '2018-12-14', '2018-12-13', '2018-12-12',\n",
      "       '2018-12-11', '2018-12-10', '2018-12-07', '2018-12-06', '2018-12-05',\n",
      "       ...\n",
      "       '2016-07-01', '2016-06-30', '2016-06-29', '2016-06-28', '2016-06-27',\n",
      "       '2016-06-24', '2016-06-23', '2016-06-22', '2016-06-21', '2016-06-20'],\n",
      "      dtype='object', name='date', length=557)\n"
     ]
    }
   ],
   "source": [
    "import tushare as ts\n",
    "data=ts.get_hist_data('300165') \n",
    "print(data.columns)\n",
    "print(data.index)"
   ]
  },
  {
   "cell_type": "markdown",
   "metadata": {},
   "source": [
    "# 2. 股票数据分析与处理"
   ]
  },
  {
   "cell_type": "markdown",
   "metadata": {},
   "source": [
    "1. 时间的顺序"
   ]
  },
  {
   "cell_type": "code",
   "execution_count": 21,
   "metadata": {},
   "outputs": [
    {
     "name": "stdout",
     "output_type": "stream",
     "text": [
      "<class 'pandas.core.indexes.datetimes.DatetimeIndex'>\n"
     ]
    }
   ],
   "source": [
    "data.index=pd.to_datetime(data.index)\n",
    "print(type(data.index))\n",
    "data=data.sort_index()\n"
   ]
  },
  {
   "cell_type": "markdown",
   "metadata": {},
   "source": [
    "2.时间数据缺失      \n",
    "&emsp;&emsp;实际上因为各种因素，会导致时间缺失（比如法定假日）   \n",
    "&emsp;&emsp;获取时间范围：   "
   ]
  },
  {
   "cell_type": "code",
   "execution_count": 140,
   "metadata": {},
   "outputs": [
    {
     "name": "stdout",
     "output_type": "stream",
     "text": [
      "第一天 2016-06-20 00:00:00\n",
      "近一天 2018-12-18 00:00:00\n",
      "<class 'pandas._libs.tslibs.timestamps.Timestamp'>\n",
      "理论天数: 911\n",
      "实际天数: 557\n"
     ]
    }
   ],
   "source": [
    "lst=data.index.tolist()\n",
    "print('第一天',lst[0])\n",
    "print('近一天',lst[-1])\n",
    "print(type(lst[-1]))\n",
    "print('理论天数:',(lst[-1]-lst[0]).days)\n",
    "print('实际天数:',data.shape[0])"
   ]
  },
  {
   "cell_type": "markdown",
   "metadata": {},
   "source": [
    "2. 数据可视化分析"
   ]
  },
  {
   "cell_type": "code",
   "execution_count": 5,
   "metadata": {},
   "outputs": [
    {
     "data": {
      "image/png": "[encoded data removed]",
      "text/plain": [
       "<Figure size 720x432 with 1 Axes>"
      ]
     },
     "metadata": {
      "needs_background": "light"
     },
     "output_type": "display_data"
    }
   ],
   "source": [
    "% matplotlib inline\n",
    "import matplotlib.pyplot as plt\n",
    "\n",
    "figure=plt.figure(figsize=(10,6))\n",
    "ax=figure.add_axes([0.1,0.1,0.8,0.8],xlabel='日期',ylabel='价格或者交易量')\n",
    "#ax.plot(data['close'], label='收盘价')\n",
    "#ax.plot(data['volume'], label='交易量')\n",
    "ax.plot(data['high'], label='最高价')\n",
    "#ax.plot(data[['ma20']], label='最高价')\n",
    "plt.legend(loc=0)\n",
    "plt.show()\n"
   ]
  },
  {
   "cell_type": "markdown",
   "metadata": {},
   "source": [
    "# 3. 股票预测模型选择"
   ]
  },
  {
   "cell_type": "markdown",
   "metadata": {},
   "source": [
    "三种模型：   \n",
    "&emsp;&emsp;&emsp;&emsp;|-AR模型（AR模型称为自回归模型（Auto Regressive model））           \n",
    "&emsp;&emsp;&emsp;&emsp;|-MA模型（MA模型称为移动平均模型（Moving Average model））     \n",
    "&emsp;&emsp;&emsp;&emsp;|-ARMA模型（ARMA称为自回归移动平均模型（Auto Regressive and Moving Average model））    \n",
    "&emsp;&emsp;&emsp;&emsp;|-ARIMA模型（ARIMA模型称为差分自回归移动平均模型）         \n",
    "&emsp;&emsp;每个模型的统计量有   \n",
    "&emsp;&emsp;&emsp;&emsp;|-均值    \n",
    "&emsp;&emsp;&emsp;&emsp;|-方差     \n",
    "&emsp;&emsp;&emsp;&emsp;|-ACF(拖尾)    \n",
    "&emsp;&emsp;&emsp;&emsp;|-PACF(p阶截尾)   \n",
    "\n",
    "我们选择**ARMA模型**"
   ]
  },
  {
   "cell_type": "markdown",
   "metadata": {},
   "source": [
    "# 4. 股票预测实现  "
   ]
  },
  {
   "cell_type": "markdown",
   "metadata": {},
   "source": [
    "1. 平稳性分析   "
   ]
  },
  {
   "cell_type": "code",
   "execution_count": 6,
   "metadata": {},
   "outputs": [
    {
     "name": "stdout",
     "output_type": "stream",
     "text": [
      "可信概率: 0.8154614460777652\n",
      "1.945095480758083e-15\n",
      "4.6423908932375695e-08\n",
      "7.985366417571043e-08\n",
      "1.1473672115845637e-10\n",
      "2.991070438405806e-10\n",
      "1.0166221542669001e-06\n",
      "8.357939135455544e-08\n",
      "6.086384060060486e-07\n",
      "2.468533631788921e-05\n",
      "4.0333181569308555e-08\n"
     ]
    }
   ],
   "source": [
    "from statsmodels.tsa.stattools import adfuller as ADF\n",
    "diff = 0\n",
    "adf = ADF(data['high'])\n",
    "print('可信概率:',adf[1])\n",
    "for i in range(10):\n",
    "    diff = diff + 1\n",
    "    adf = ADF(data['high'].diff(diff).dropna())\n",
    "    print(adf[1])"
   ]
  },
  {
   "cell_type": "markdown",
   "metadata": {},
   "source": [
    "2. 预测实现"
   ]
  },
  {
   "cell_type": "code",
   "execution_count": 49,
   "metadata": {},
   "outputs": [
    {
     "name": "stderr",
     "output_type": "stream",
     "text": [
      "/Library/Frameworks/Python.framework/Versions/3.6/lib/python3.6/site-packages/statsmodels/tsa/base/tsa_model.py:225: ValueWarning: A date index has been provided, but it has no associated frequency information and so will be ignored when e.g. forecasting.\n",
      "  ' ignored when e.g. forecasting.', ValueWarning)\n"
     ]
    },
    {
     "name": "stdout",
     "output_type": "stream",
     "text": [
      "557\n"
     ]
    },
    {
     "data": {
      "image/png": "[encoded data removed]",
      "text/plain": [
       "<Figure size 720x432 with 1 Axes>"
      ]
     },
     "metadata": {
      "needs_background": "light"
     },
     "output_type": "display_data"
    }
   ],
   "source": [
    "import tushare as ts\n",
    "import pandas as pd\n",
    "import matplotlib.pyplot as plt\n",
    "from statsmodels.api import * \n",
    "import time\n",
    "\n",
    "\n",
    "data=ts.get_hist_data('300165') \n",
    "#print(data.columns)\n",
    "#print(data.index)\n",
    "data.index=pd.to_datetime(data.index)\n",
    "data=data.sort_index()\n",
    "\n",
    "arma = tsa.ARMA(data[['high']], (1, 1))\n",
    "model=arma.fit(disp=True, method='mle')\n",
    "\n",
    "\n",
    "# 第一天 2016-06-20 00:00:00\n",
    "# 近一天 2018-12-18 00:00:00\n",
    "print(data.shape[0])\n",
    "predict=model.predict(1,556)\n",
    "\n",
    "\n",
    "\n",
    "figure=plt.figure(figsize=(10,6))\n",
    "ax=figure.add_axes([0.1,0.1,0.8,0.8],xlabel='日期',ylabel='价格或者交易量')\n",
    "\n",
    "#ax.plot(model.fittedvalues, color='r', label='训练曲线')\n",
    "ax.plot(data[['high']], color='b',label='实际曲线')\n",
    "ax.plot(predict, color=(1,1,0,1),label='预测曲线')\n",
    "\n",
    "plt.legend()\n",
    "plt.show()\n"
   ]
  },
  {
   "cell_type": "code",
   "execution_count": null,
   "metadata": {},
   "outputs": [],
   "source": []
  }
 ],
 "metadata": {
  "kernelspec": {
   "display_name": "Python 3",
   "language": "python",
   "name": "python3"
  },
  "language_info": {
   "codemirror_mode": {
    "name": "ipython",
    "version": 3
   },
   "file_extension": ".py",
   "mimetype": "text/x-python",
   "name": "python",
   "nbconvert_exporter": "python",
   "pygments_lexer": "ipython3",
   "version": "3.6.6"
  }
 },
 "nbformat": 4,
 "nbformat_minor": 2
}
