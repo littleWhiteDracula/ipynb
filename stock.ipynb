{
 "cells": [
  {
   "cell_type": "markdown",
   "metadata": {},
   "source": [
    "# 1. 股票数据的获取"
   ]
  },
  {
   "cell_type": "code",
   "execution_count": 14,
   "metadata": {},
   "outputs": [],
   "source": [
    "import tushare as ts\n",
    "import pandas as pd\n",
    "# import statsmodels\n",
    "data=ts.get_hist_data('300165')\n",
    "#industry=ts.get_stock_basics()\n",
    "#print(industry.columns)\n",
    "#print(type(industry)) \n",
    "#print(industry.index)\n",
    "#print(industry[['name']])\n",
    "#print(industry.iloc[0:1])\n",
    "#print(industry)"
   ]
  },
  {
   "cell_type": "markdown",
   "metadata": {},
   "source": [
    "# 2. 股票数据的分析与处理\n"
   ]
  },
  {
   "cell_type": "markdown",
   "metadata": {},
   "source": [
    "1. 处理时间序列"
   ]
  },
  {
   "cell_type": "code",
   "execution_count": 16,
   "metadata": {},
   "outputs": [
    {
     "name": "stdout",
     "output_type": "stream",
     "text": [
      "             open   high  close    low     volume  price_change  p_change  \\\n",
      "date                                                                        \n",
      "2016-06-20  10.50  10.63  10.55  10.30  100072.15          0.16      1.54   \n",
      "2016-06-21  10.61  10.64  10.14  10.05  120760.19         -0.41     -3.89   \n",
      "2016-06-22  10.12  10.37  10.33   9.96  100691.55          0.19      1.87   \n",
      "2016-06-23  10.27  10.62  10.47  10.24  160558.36          0.14      1.35   \n",
      "2016-06-24  10.54  10.54  10.14   9.72  163480.31         -0.33     -3.15   \n",
      "2016-06-27  10.00  10.44  10.43   9.93  154241.94          0.29      2.86   \n",
      "2016-06-28  10.37  10.95  10.73  10.20  231200.77          0.30      2.88   \n",
      "2016-06-29  10.86  10.87  10.61  10.52  138110.58         -0.12     -1.12   \n",
      "2016-06-30  10.61  10.85  10.83  10.45  167470.78          0.22      2.07   \n",
      "2016-07-01  10.72  11.09  10.66  10.62  143622.31         -0.17     -1.57   \n",
      "2016-07-04  10.50  10.85  10.76  10.47  139011.34          0.10      0.94   \n",
      "2016-07-05  10.79  10.85  10.63  10.52  144427.52         -0.13     -1.21   \n",
      "2016-07-06  10.58  10.68  10.65  10.51   90381.59          0.02      0.19   \n",
      "2016-07-07  10.65  10.74  10.47  10.36  124481.22         -0.18     -1.69   \n",
      "2016-07-08  10.47  10.88  10.81  10.45  168750.09          0.34      3.25   \n",
      "2016-07-11  10.82  10.92  10.81  10.62  168918.45          0.00      0.00   \n",
      "2016-07-12  10.76  11.21  11.19  10.64  266778.16          0.38      3.52   \n",
      "2016-07-13  11.29  12.31  12.31  11.26  249947.19          1.12     10.01   \n",
      "2016-07-14  12.76  12.88  12.37  11.86  469619.84          0.06      0.49   \n",
      "2016-07-15  12.19  12.27  11.89  11.83  183570.25         -0.48     -3.88   \n",
      "2016-07-18  11.92  12.35  12.11  11.55  220377.61          0.22      1.85   \n",
      "2016-07-19  12.00  12.49  12.47  11.85  210129.44          0.36      2.97   \n",
      "2016-07-20  12.32  12.59  12.21  12.18  136919.27         -0.26     -2.08   \n",
      "2016-07-21  12.25  13.43  12.55  12.25  405618.06          0.34      2.79   \n",
      "2016-07-22  12.49  12.85  12.25  12.18  168879.77         -0.30     -2.39   \n",
      "2016-07-25  12.19  12.65  12.39  12.04  189778.55          0.14      1.14   \n",
      "2016-07-26  12.25  12.70  12.47  12.24  106069.44          0.08      0.65   \n",
      "2016-07-27  12.50  12.59  11.22  11.22  256172.94         -1.25    -10.02   \n",
      "2016-07-28  11.35  11.42  11.16  10.80  153396.41         -0.06     -0.54   \n",
      "2016-07-29  11.40  11.40  11.21  11.02   97054.59          0.05      0.45   \n",
      "...           ...    ...    ...    ...        ...           ...       ...   \n",
      "2018-11-08   4.15   4.26   4.12   4.10   62686.00          0.00      0.00   \n",
      "2018-11-09   4.11   4.15   4.10   4.09   45176.46         -0.02     -0.48   \n",
      "2018-11-12   4.10   4.31   4.28   4.08   74250.98          0.18      4.39   \n",
      "2018-11-13   4.23   4.49   4.42   4.20  104989.49          0.14      3.27   \n",
      "2018-11-14   4.39   4.56   4.41   4.38   83507.84         -0.01     -0.23   \n",
      "2018-11-15   4.41   4.59   4.51   4.40   91003.56          0.10      2.27   \n",
      "2018-11-16   4.52   4.55   4.50   4.44   72418.16         -0.01     -0.22   \n",
      "2018-11-19   4.48   4.52   4.50   4.41   55677.51          0.00      0.00   \n",
      "2018-11-20   4.47   4.49   4.34   4.32   52184.53         -0.16     -3.56   \n",
      "2018-11-21   4.30   4.46   4.46   4.25   55963.14          0.12      2.77   \n",
      "2018-11-22   4.50   4.54   4.47   4.43   45885.49          0.01      0.22   \n",
      "2018-11-23   4.52   4.53   4.21   4.19   55562.92         -0.26     -5.82   \n",
      "2018-11-26   4.19   4.32   4.30   4.15   63502.87          0.09      2.14   \n",
      "2018-11-27   4.30   4.34   4.30   4.21   52164.50          0.00      0.00   \n",
      "2018-11-28   4.30   4.41   4.39   4.24   46656.50          0.09      2.09   \n",
      "2018-11-29   4.43   4.44   4.23   4.23   38442.00         -0.16     -3.65   \n",
      "2018-11-30   4.23   4.30   4.26   4.15   36564.00          0.03      0.71   \n",
      "2018-12-03   4.35   4.50   4.47   4.31   77142.11          0.21      4.93   \n",
      "2018-12-04   4.48   4.58   4.54   4.43   71641.00          0.07      1.57   \n",
      "2018-12-05   4.46   4.57   4.54   4.43   72601.37          0.00      0.00   \n",
      "2018-12-06   4.58   4.58   4.39   4.36   61748.91         -0.15     -3.30   \n",
      "2018-12-07   4.39   4.44   4.41   4.36   35682.91          0.02      0.46   \n",
      "2018-12-10   4.36   4.39   4.30   4.29   40113.75         -0.11     -2.49   \n",
      "2018-12-11   4.35   4.38   4.35   4.31   28519.00          0.05      1.16   \n",
      "2018-12-12   4.34   4.40   4.36   4.33   24683.00          0.01      0.23   \n",
      "2018-12-13   4.41   4.42   4.37   4.29   42644.90          0.01      0.23   \n",
      "2018-12-14   4.37   4.41   4.21   4.18   54556.63         -0.16     -3.66   \n",
      "2018-12-17   4.20   4.28   4.26   4.15   39646.49          0.05      1.19   \n",
      "2018-12-18   4.22   4.69   4.69   4.20  146785.94          0.43     10.09   \n",
      "2018-12-19   4.77   4.94   4.60   4.58  454369.69         -0.09     -1.92   \n",
      "\n",
      "               ma5    ma10    ma20      v_ma5     v_ma10     v_ma20  \n",
      "date                                                                 \n",
      "2016-06-20  10.550  10.550  10.550  100072.15  100072.15  100072.15  \n",
      "2016-06-21  10.345  10.345  10.345  110416.17  110416.17  110416.17  \n",
      "2016-06-22  10.340  10.340  10.340  107174.63  107174.63  107174.63  \n",
      "2016-06-23  10.373  10.373  10.373  120520.56  120520.56  120520.56  \n",
      "2016-06-24  10.326  10.326  10.326  129112.51  129112.51  129112.51  \n",
      "2016-06-27  10.302  10.343  10.343  139946.47  133300.75  133300.75  \n",
      "2016-06-28  10.420  10.399  10.399  162034.59  147286.47  147286.47  \n",
      "2016-06-29  10.476  10.425  10.425  169518.39  146139.48  146139.48  \n",
      "2016-06-30  10.548  10.470  10.470  170900.88  148509.63  148509.63  \n",
      "2016-07-01  10.652  10.489  10.489  166929.28  148020.89  148020.89  \n",
      "2016-07-04  10.718  10.510  10.514  163883.16  151914.81  147201.84  \n",
      "2016-07-05  10.698  10.559  10.523  146528.51  154281.55  146970.65  \n",
      "2016-07-06  10.706  10.591  10.533  136982.71  153250.55  142617.65  \n",
      "2016-07-07  10.634  10.591  10.529  128384.80  149642.84  141322.19  \n",
      "2016-07-08  10.664  10.658  10.547  133410.35  150169.81  143150.71  \n",
      "2016-07-11  10.674  10.696  10.564  139391.77  151637.47  144761.20  \n",
      "2016-07-12  10.786  10.742  10.601  163861.90  155195.20  151938.67  \n",
      "2016-07-13  11.118  10.912  10.696  195775.02  166378.87  157383.58  \n",
      "2016-07-14  11.498  11.066  10.784  264802.75  196593.77  173817.07  \n",
      "2016-07-15  11.714  11.189  10.839  267766.78  200588.57  174304.73  \n",
      "2016-07-18  11.974  11.324  10.917  278058.61  208725.19  180320.00  \n",
      "2016-07-19  12.230  11.508  11.034  266728.87  215295.38  184788.47  \n",
      "2016-07-20  12.210  11.664  11.128  244123.28  219949.15  186599.85  \n",
      "2016-07-21  12.246  11.872  11.232  231322.93  248062.84  198852.84  \n",
      "2016-07-22  12.318  12.016  11.337  228384.83  248075.80  199122.81  \n",
      "2016-07-25  12.374  12.174  11.435  222265.02  250161.81  200899.64  \n",
      "2016-07-26  12.374  12.302  11.522  201453.02  234090.94  194643.07  \n",
      "2016-07-27  12.176  12.193  11.553  225303.75  234713.52  200546.19  \n",
      "2016-07-28  11.898  12.072  11.569  174859.42  203091.17  199842.47  \n",
      "2016-07-29  11.690  12.004  11.597  160494.39  194439.61  197514.09  \n",
      "...            ...     ...     ...        ...        ...        ...  \n",
      "2018-11-08   4.106   4.008   3.873   57880.27   55933.85   51362.59  \n",
      "2018-11-09   4.110   4.035   3.892   53156.68   56658.71   50732.66  \n",
      "2018-11-12   4.144   4.082   3.922   55958.88   59764.99   52512.61  \n",
      "2018-11-13   4.208   4.136   3.962   67262.57   66401.51   55976.24  \n",
      "2018-11-14   4.266   4.171   3.996   74122.15   67586.72   57837.44  \n",
      "2018-11-15   4.344   4.225   4.041   79785.67   68832.97   60085.97  \n",
      "2018-11-16   4.424   4.267   4.082   85234.01   69195.34   61592.57  \n",
      "2018-11-19   4.468   4.306   4.113   81519.31   68739.09   60713.30  \n",
      "2018-11-20   4.452   4.330   4.140   70958.32   69110.45   60810.01  \n",
      "2018-11-21   4.462   4.364   4.170   65449.38   69785.77   61893.31  \n",
      "2018-11-22   4.454   4.399   4.204   56425.77   68105.72   62019.78  \n",
      "2018-11-23   4.396   4.410   4.223   53054.72   69144.36   62901.54  \n",
      "2018-11-26   4.356   4.412   4.247   54619.79   68069.55   63917.27  \n",
      "2018-11-27   4.348   4.400   4.268   54615.78   62787.05   64594.28  \n",
      "2018-11-28   4.334   4.398   4.285   52754.46   59101.92   63344.32  \n",
      "2018-11-29   4.286   4.370   4.298   51265.76   53845.76   61339.36  \n",
      "2018-11-30   4.296   4.346   4.307   47465.97   50260.35   59727.84  \n",
      "2018-12-03   4.330   4.343   4.325   50193.82   52406.81   60572.95  \n",
      "2018-12-04   4.378   4.363   4.347   54089.12   54352.45   61731.45  \n",
      "2018-12-05   4.408   4.371   4.368   59278.10   56016.28   62901.02  \n",
      "2018-12-06   4.440   4.363   4.381   63939.48   57602.62   62854.17  \n",
      "2018-12-07   4.470   4.383   4.397   63763.26   55614.62   62379.49  \n",
      "2018-12-10   4.436   4.383   4.398   56357.59   53275.71   60672.63  \n",
      "2018-12-11   4.398   4.388   4.394   47733.19   50911.16   56849.10  \n",
      "2018-12-12   4.362   4.385   4.392   38149.51   48713.81   53907.86  \n",
      "2018-12-13   4.358   4.399   4.385   34328.71   49134.10   51489.93  \n",
      "2018-12-14   4.318   4.394   4.370   38103.46   50933.36   50596.85  \n",
      "2018-12-17   4.310   4.373   4.358   38010.00   47183.80   49795.30  \n",
      "2018-12-18   4.378   4.388   4.376   61663.39   54698.29   54525.37  \n",
      "2018-12-19   4.426   4.394   4.383  147600.73   92875.12   74445.70  \n",
      "\n",
      "[558 rows x 13 columns]\n"
     ]
    }
   ],
   "source": [
    "data.index=pd.to_datetime(data.index)\n",
    "data=data.sort_index()\n",
    "print(data)"
   ]
  },
  {
   "cell_type": "markdown",
   "metadata": {},
   "source": [
    "2. 时间缺失  "
   ]
  },
  {
   "cell_type": "code",
   "execution_count": 20,
   "metadata": {},
   "outputs": [
    {
     "name": "stdout",
     "output_type": "stream",
     "text": [
      "2016-06-20 00:00:00\n",
      "2018-12-19 00:00:00\n",
      "912\n",
      "558\n"
     ]
    }
   ],
   "source": [
    "lst=data.index.tolist()\n",
    "print(lst[0])\n",
    "print(lst[-1])\n",
    "print((lst[-1]-lst[0]).days)\n",
    "print(data.shape[0])"
   ]
  },
  {
   "cell_type": "markdown",
   "metadata": {},
   "source": [
    "3. 数据可视化"
   ]
  },
  {
   "cell_type": "code",
   "execution_count": 24,
   "metadata": {},
   "outputs": [
    {
     "data": {
      "image/png": "[encoded data removed]",
      "text/plain": [
       "<Figure size 576x288 with 1 Axes>"
      ]
     },
     "metadata": {
      "needs_background": "light"
     },
     "output_type": "display_data"
    }
   ],
   "source": [
    "% matplotlib inline\n",
    "import matplotlib.pyplot as plt\n",
    "figure=plt.figure('股票曲线',figsize=(8,4))\n",
    "ax=figure.add_axes([0.1,0.1,0.8,0.8], xlabel='日期',ylabel='价格')\n",
    "ax.plot(data[['high']],color=(1,0,0,1),label='最高价格')\n",
    "plt.legend()\n",
    "plt.show()"
   ]
  },
  {
   "cell_type": "markdown",
   "metadata": {},
   "source": [
    "# 3. 股票的预测模型选择"
   ]
  },
  {
   "cell_type": "markdown",
   "metadata": {},
   "source": [
    "1. 回归模型  \n",
    "2. SVM    \n",
    "3. 递归神经网络\n",
    "4. 统计模型     \n",
    "&emsp;&emsp;|-AR    \n",
    "&emsp;&emsp;|-MA    \n",
    "&emsp;&emsp;|-ARMA    \n",
    "&emsp;&emsp;|-ARIMA     "
   ]
  },
  {
   "cell_type": "markdown",
   "metadata": {},
   "source": [
    "# 4. 实现股票预测"
   ]
  },
  {
   "cell_type": "markdown",
   "metadata": {},
   "source": [
    "1. 数据平稳性"
   ]
  },
  {
   "cell_type": "code",
   "execution_count": 29,
   "metadata": {},
   "outputs": [
    {
     "name": "stdout",
     "output_type": "stream",
     "text": [
      "0.7959360932221058\n",
      "2.209115641419105e-15\n",
      "5.689580182173496e-08\n",
      "9.527508753602399e-08\n",
      "1.4250562902752933e-10\n",
      "3.590901168674359e-10\n",
      "1.148312485258426e-06\n",
      "1.0824889885900607e-07\n",
      "8.246743403390504e-07\n",
      "2.9871996424777676e-05\n",
      "5.180603419280509e-08\n"
     ]
    }
   ],
   "source": [
    "from statsmodels.tsa.stattools import adfuller  as ADF\n",
    "diff=0\n",
    "adf=ADF(data['high'])\n",
    "print(adf[1])\n",
    "\n",
    "for i in range(10):\n",
    "    diff=diff+1\n",
    "    adf=ADF(data['high'].diff(diff).dropna())\n",
    "    print(adf[1])\n",
    "# 置信度，平稳性，觉得可以做数据预测"
   ]
  },
  {
   "cell_type": "markdown",
   "metadata": {},
   "source": [
    "2. 训练与预测"
   ]
  },
  {
   "cell_type": "code",
   "execution_count": 31,
   "metadata": {},
   "outputs": [
    {
     "name": "stderr",
     "output_type": "stream",
     "text": [
      "/Library/Frameworks/Python.framework/Versions/3.6/lib/python3.6/site-packages/statsmodels/tsa/base/tsa_model.py:225: ValueWarning: A date index has been provided, but it has no associated frequency information and so will be ignored when e.g. forecasting.\n",
      "  ' ignored when e.g. forecasting.', ValueWarning)\n"
     ]
    },
    {
     "data": {
      "image/png": "[encoded data removed]",
      "text/plain": [
       "<Figure size 576x288 with 1 Axes>"
      ]
     },
     "metadata": {
      "needs_background": "light"
     },
     "output_type": "display_data"
    }
   ],
   "source": [
    "% matplotlib inline\n",
    "import matplotlib.pyplot as plt\n",
    "import pandas as pd\n",
    "from  statsmodels.api import *\n",
    "import tushare as ts\n",
    "\n",
    "data=ts.get_hist_data('300165')\n",
    "data.index=pd.to_datetime(data.index)\n",
    "data=data.sort_index()\n",
    "\n",
    "# 预测模型\n",
    "arma=tsa.ARMA(data[['high']], (1,1) )\n",
    "# 训练\n",
    "model=arma.fit()\n",
    "# 预测\n",
    "predict=model.predict(1,556)\n",
    "\n",
    "figure=plt.figure('股票曲线',figsize=(8,4))\n",
    "ax=figure.add_axes([0.1,0.1,0.8,0.8], xlabel='日期',ylabel='价格')\n",
    "ax.plot(data[['high']],color=(1,0,0,1),label='最高价格')\n",
    "\n",
    "ax.plot(predict,color=(0,0,1,1),label='最高价格')\n",
    "\n",
    "plt.legend()\n",
    "plt.show()\n"
   ]
  },
  {
   "cell_type": "code",
   "execution_count": null,
   "metadata": {},
   "outputs": [],
   "source": []
  }
 ],
 "metadata": {
  "kernelspec": {
   "display_name": "Python 3",
   "language": "python",
   "name": "python3"
  },
  "language_info": {
   "codemirror_mode": {
    "name": "ipython",
    "version": 3
   },
   "file_extension": ".py",
   "mimetype": "text/x-python",
   "name": "python",
   "nbconvert_exporter": "python",
   "pygments_lexer": "ipython3",
   "version": "3.6.6"
  }
 },
 "nbformat": 4,
 "nbformat_minor": 2
}
